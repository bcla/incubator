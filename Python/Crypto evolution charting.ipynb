{
 "cells": [
  {
   "cell_type": "markdown",
   "metadata": {},
   "source": [
    "# Get data and graphical representation of a given crypto coin"
   ]
  },
  {
   "cell_type": "markdown",
   "metadata": {},
   "source": [
    "### Credits: Data is obtained from http://coinmarketcap.northpole.ro"
   ]
  },
  {
   "cell_type": "code",
   "execution_count": 2,
   "metadata": {},
   "outputs": [],
   "source": [
    "URL = ('http://coinmarketcap.northpole.ro')"
   ]
  },
  {
   "cell_type": "markdown",
   "metadata": {},
   "source": [
    "Load required components"
   ]
  },
  {
   "cell_type": "code",
   "execution_count": 22,
   "metadata": {},
   "outputs": [],
   "source": [
    "import requests, pandas as pd\n",
    "import matplotlib.pyplot as plt,matplotlib.dates as mdates\n",
    "from matplotlib.ticker import FuncFormatter,FormatStrFormatter\n",
    "import datetime"
   ]
  },
  {
   "cell_type": "markdown",
   "metadata": {},
   "source": [
    "View valid choices. Print first 10 options."
   ]
  },
  {
   "cell_type": "code",
   "execution_count": 29,
   "metadata": {},
   "outputs": [],
   "source": [
    "def get_valid_coins():\n",
    "    r = requests.get(URL+'/coins.json')\n",
    "    return tuple(pd.DataFrame(r.json()['coins'])['identifier'])    "
   ]
  },
  {
   "cell_type": "code",
   "execution_count": 30,
   "metadata": {},
   "outputs": [
    {
     "data": {
      "text/plain": [
       "('0chain',\n",
       " '0x',\n",
       " '0xbtc',\n",
       " '0xcert',\n",
       " '10mtoken',\n",
       " '1337',\n",
       " '1337coin',\n",
       " '1credit',\n",
       " '1world',\n",
       " '23-skidoo')"
      ]
     },
     "execution_count": 30,
     "metadata": {},
     "output_type": "execute_result"
    }
   ],
   "source": [
    "get_valid_coins()[:10]"
   ]
  },
  {
   "cell_type": "markdown",
   "metadata": {},
   "source": [
    "Perform API calls. Will get data for Ethereum YTD."
   ]
  },
  {
   "cell_type": "code",
   "execution_count": 23,
   "metadata": {},
   "outputs": [],
   "source": [
    "def get_data(coin, period):\n",
    "    r = requests.get(URL+f'/history.json?coin={coin}&period={period}')\n",
    "    df = pd.DataFrame(r.json()['history'])\n",
    "    df = pd.concat([df,df['marketCap'].apply(pd.Series).add_prefix('marketCap_')],axis=1)\n",
    "    df = pd.concat([df,df['price'].apply(pd.Series).add_prefix('price_')],axis=1)\n",
    "    df = pd.concat([df,df['volume24'].apply(pd.Series).add_prefix('volume24_')],axis=1)\n",
    "    df['date'] = pd.to_datetime(df['date'])\n",
    "    df = df[df['date']<datetime.datetime.now()]\n",
    "    return df"
   ]
  },
  {
   "cell_type": "code",
   "execution_count": 24,
   "metadata": {},
   "outputs": [],
   "source": [
    "df = get_data('ethereum',2018)"
   ]
  },
  {
   "cell_type": "markdown",
   "metadata": {},
   "source": [
    "View data as a Pandas DataFrame"
   ]
  },
  {
   "cell_type": "code",
   "execution_count": 32,
   "metadata": {},
   "outputs": [
    {
     "data": {
      "text/html": [
       "<div>\n",
       "<style scoped>\n",
       "    .dataframe tbody tr th:only-of-type {\n",
       "        vertical-align: middle;\n",
       "    }\n",
       "\n",
       "    .dataframe tbody tr th {\n",
       "        vertical-align: top;\n",
       "    }\n",
       "\n",
       "    .dataframe thead th {\n",
       "        text-align: right;\n",
       "    }\n",
       "</style>\n",
       "<table border=\"1\" class=\"dataframe\">\n",
       "  <thead>\n",
       "    <tr style=\"text-align: right;\">\n",
       "      <th></th>\n",
       "      <th>availableSupply</th>\n",
       "      <th>category</th>\n",
       "      <th>change1h</th>\n",
       "      <th>change24h</th>\n",
       "      <th>change7d</th>\n",
       "      <th>date</th>\n",
       "      <th>identifier</th>\n",
       "      <th>marketCap</th>\n",
       "      <th>name</th>\n",
       "      <th>position</th>\n",
       "      <th>...</th>\n",
       "      <th>volume24_php</th>\n",
       "      <th>volume24_pkr</th>\n",
       "      <th>volume24_pln</th>\n",
       "      <th>volume24_rub</th>\n",
       "      <th>volume24_sek</th>\n",
       "      <th>volume24_sgd</th>\n",
       "      <th>volume24_thb</th>\n",
       "      <th>volume24_try</th>\n",
       "      <th>volume24_twd</th>\n",
       "      <th>volume24_zar</th>\n",
       "    </tr>\n",
       "  </thead>\n",
       "  <tbody>\n",
       "    <tr>\n",
       "      <th>0</th>\n",
       "      <td>96725296</td>\n",
       "      <td>currency</td>\n",
       "      <td>0.49</td>\n",
       "      <td>16.59</td>\n",
       "      <td>15.25</td>\n",
       "      <td>2018-02-01</td>\n",
       "      <td>ethereum</td>\n",
       "      <td>{'usd': 85960061119.0, 'btc': 6183483.76818, '...</td>\n",
       "      <td>Ethereum</td>\n",
       "      <td>3</td>\n",
       "      <td>...</td>\n",
       "      <td>2.690096e+11</td>\n",
       "      <td>5.957101e+11</td>\n",
       "      <td>1.866503e+10</td>\n",
       "      <td>3.098624e+11</td>\n",
       "      <td>4.395972e+10</td>\n",
       "      <td>7.172926e+09</td>\n",
       "      <td>1.751537e+11</td>\n",
       "      <td>2.033810e+10</td>\n",
       "      <td>1.595677e+11</td>\n",
       "      <td>6.662562e+10</td>\n",
       "    </tr>\n",
       "    <tr>\n",
       "      <th>1</th>\n",
       "      <td>96730420</td>\n",
       "      <td>currency</td>\n",
       "      <td>-1.47</td>\n",
       "      <td>13.10</td>\n",
       "      <td>13.51</td>\n",
       "      <td>2018-03-01</td>\n",
       "      <td>ethereum</td>\n",
       "      <td>{'usd': 84960456256.3, 'btc': 5731790.07654, '...</td>\n",
       "      <td>Ethereum</td>\n",
       "      <td>3</td>\n",
       "      <td>...</td>\n",
       "      <td>2.854357e+11</td>\n",
       "      <td>6.329978e+11</td>\n",
       "      <td>1.976212e+10</td>\n",
       "      <td>3.295849e+11</td>\n",
       "      <td>4.675769e+10</td>\n",
       "      <td>7.603598e+09</td>\n",
       "      <td>1.856426e+11</td>\n",
       "      <td>2.154693e+10</td>\n",
       "      <td>1.692425e+11</td>\n",
       "      <td>7.118186e+10</td>\n",
       "    </tr>\n",
       "    <tr>\n",
       "      <th>2</th>\n",
       "      <td>96826696</td>\n",
       "      <td>currency</td>\n",
       "      <td>0.97</td>\n",
       "      <td>9.75</td>\n",
       "      <td>56.12</td>\n",
       "      <td>2018-07-01</td>\n",
       "      <td>ethereum</td>\n",
       "      <td>{'usd': 110264304728.0, 'btc': 6559514.82932, ...</td>\n",
       "      <td>Ethereum</td>\n",
       "      <td>3</td>\n",
       "      <td>...</td>\n",
       "      <td>2.600221e+11</td>\n",
       "      <td>5.792283e+11</td>\n",
       "      <td>1.802175e+10</td>\n",
       "      <td>2.973003e+11</td>\n",
       "      <td>4.257413e+10</td>\n",
       "      <td>6.924084e+09</td>\n",
       "      <td>1.679674e+11</td>\n",
       "      <td>1.950825e+10</td>\n",
       "      <td>1.539113e+11</td>\n",
       "      <td>6.430989e+10</td>\n",
       "    </tr>\n",
       "    <tr>\n",
       "      <th>3</th>\n",
       "      <td>96843149</td>\n",
       "      <td>currency</td>\n",
       "      <td>0.00</td>\n",
       "      <td>9.82</td>\n",
       "      <td>61.33</td>\n",
       "      <td>2018-08-01</td>\n",
       "      <td>ethereum</td>\n",
       "      <td>{'usd': 118937914019.0, 'btc': 7430087.2723, '...</td>\n",
       "      <td>Ethereum</td>\n",
       "      <td>2</td>\n",
       "      <td>...</td>\n",
       "      <td>3.442019e+11</td>\n",
       "      <td>7.627234e+11</td>\n",
       "      <td>2.377516e+10</td>\n",
       "      <td>3.916057e+11</td>\n",
       "      <td>5.614105e+10</td>\n",
       "      <td>9.152792e+09</td>\n",
       "      <td>2.213931e+11</td>\n",
       "      <td>2.571557e+10</td>\n",
       "      <td>2.028845e+11</td>\n",
       "      <td>8.481772e+10</td>\n",
       "    </tr>\n",
       "    <tr>\n",
       "      <th>6</th>\n",
       "      <td>96962219</td>\n",
       "      <td>currency</td>\n",
       "      <td>-1.32</td>\n",
       "      <td>10.32</td>\n",
       "      <td>32.83</td>\n",
       "      <td>2018-01-14</td>\n",
       "      <td>ethereum</td>\n",
       "      <td>{'usd': 135242903583.0, 'btc': 9404307.47976, ...</td>\n",
       "      <td>Ethereum</td>\n",
       "      <td>2</td>\n",
       "      <td>...</td>\n",
       "      <td>2.894805e+11</td>\n",
       "      <td>6.345967e+11</td>\n",
       "      <td>1.962256e+10</td>\n",
       "      <td>3.251638e+11</td>\n",
       "      <td>4.619712e+10</td>\n",
       "      <td>7.597336e+09</td>\n",
       "      <td>1.823597e+11</td>\n",
       "      <td>2.152003e+10</td>\n",
       "      <td>1.699318e+11</td>\n",
       "      <td>7.095603e+10</td>\n",
       "    </tr>\n",
       "  </tbody>\n",
       "</table>\n",
       "<p>5 rows × 113 columns</p>\n",
       "</div>"
      ],
      "text/plain": [
       "   availableSupply  category  change1h  change24h  change7d       date  \\\n",
       "0         96725296  currency      0.49      16.59     15.25 2018-02-01   \n",
       "1         96730420  currency     -1.47      13.10     13.51 2018-03-01   \n",
       "2         96826696  currency      0.97       9.75     56.12 2018-07-01   \n",
       "3         96843149  currency      0.00       9.82     61.33 2018-08-01   \n",
       "6         96962219  currency     -1.32      10.32     32.83 2018-01-14   \n",
       "\n",
       "  identifier                                          marketCap      name  \\\n",
       "0   ethereum  {'usd': 85960061119.0, 'btc': 6183483.76818, '...  Ethereum   \n",
       "1   ethereum  {'usd': 84960456256.3, 'btc': 5731790.07654, '...  Ethereum   \n",
       "2   ethereum  {'usd': 110264304728.0, 'btc': 6559514.82932, ...  Ethereum   \n",
       "3   ethereum  {'usd': 118937914019.0, 'btc': 7430087.2723, '...  Ethereum   \n",
       "6   ethereum  {'usd': 135242903583.0, 'btc': 9404307.47976, ...  Ethereum   \n",
       "\n",
       "   position      ...       volume24_php  volume24_pkr  volume24_pln  \\\n",
       "0         3      ...       2.690096e+11  5.957101e+11  1.866503e+10   \n",
       "1         3      ...       2.854357e+11  6.329978e+11  1.976212e+10   \n",
       "2         3      ...       2.600221e+11  5.792283e+11  1.802175e+10   \n",
       "3         2      ...       3.442019e+11  7.627234e+11  2.377516e+10   \n",
       "6         2      ...       2.894805e+11  6.345967e+11  1.962256e+10   \n",
       "\n",
       "   volume24_rub  volume24_sek  volume24_sgd  volume24_thb  volume24_try  \\\n",
       "0  3.098624e+11  4.395972e+10  7.172926e+09  1.751537e+11  2.033810e+10   \n",
       "1  3.295849e+11  4.675769e+10  7.603598e+09  1.856426e+11  2.154693e+10   \n",
       "2  2.973003e+11  4.257413e+10  6.924084e+09  1.679674e+11  1.950825e+10   \n",
       "3  3.916057e+11  5.614105e+10  9.152792e+09  2.213931e+11  2.571557e+10   \n",
       "6  3.251638e+11  4.619712e+10  7.597336e+09  1.823597e+11  2.152003e+10   \n",
       "\n",
       "   volume24_twd  volume24_zar  \n",
       "0  1.595677e+11  6.662562e+10  \n",
       "1  1.692425e+11  7.118186e+10  \n",
       "2  1.539113e+11  6.430989e+10  \n",
       "3  2.028845e+11  8.481772e+10  \n",
       "6  1.699318e+11  7.095603e+10  \n",
       "\n",
       "[5 rows x 113 columns]"
      ]
     },
     "execution_count": 32,
     "metadata": {},
     "output_type": "execute_result"
    }
   ],
   "source": [
    "df.head()"
   ]
  },
  {
   "cell_type": "markdown",
   "metadata": {},
   "source": [
    "Plot data series"
   ]
  },
  {
   "cell_type": "code",
   "execution_count": 26,
   "metadata": {},
   "outputs": [],
   "source": [
    "def plot(df):\n",
    "    %matplotlib inline\n",
    "    plt.style.use('seaborn-white')\n",
    "    \n",
    "    x = sorted(df['date'])\n",
    "    y = df['price_usd']\n",
    "    z = df['volume24_usd']\n",
    "\n",
    "\n",
    "    def millions(x, pos):\n",
    "        'The two args are the value and tick position'\n",
    "        return '$%1.1fB' % (x*1e-9)\n",
    "\n",
    "    formatter = FuncFormatter(millions)\n",
    "\n",
    "\n",
    "    fig = plt.figure()\n",
    "    fig.set_size_inches(14, 6)\n",
    "    ax1 = fig.add_subplot(1,1,1)\n",
    "\n",
    "    plt.xticks(rotation=90)\n",
    "    ax1.yaxis.set_major_formatter(FormatStrFormatter('$%1.1f'))\n",
    "    ax1.xaxis.set_major_locator(mdates.DayLocator(interval=28))\n",
    "    ax1.xaxis.set_major_formatter(mdates.DateFormatter('%Y-%m-%d'))\n",
    "\n",
    "\n",
    "    ax1.plot(x,y,'r')\n",
    "    ax1.set_ylabel('Price')\n",
    "    ax1.tick_params('y')\n",
    "\n",
    "    ax2 = ax1.twinx()\n",
    "\n",
    "    ax2.plot(x,z,'b--')\n",
    "    ax2.set_ylabel('Volume')\n",
    "    ax2.yaxis.set_major_formatter(formatter)\n",
    "\n",
    "    lines, labels = ax1.get_legend_handles_labels()\n",
    "    lines2, labels2 = ax2.get_legend_handles_labels()\n",
    "    ax2.legend(lines + lines2, labels + labels2, loc=2)"
   ]
  },
  {
   "cell_type": "code",
   "execution_count": 27,
   "metadata": {},
   "outputs": [
    {
     "data": {
      "image/png": "[encoded data removed]",
      "text/plain": [
       "<Figure size 1008x432 with 2 Axes>"
      ]
     },
     "metadata": {},
     "output_type": "display_data"
    }
   ],
   "source": [
    "plot(df)"
   ]
  }
 ],
 "metadata": {
  "kernelspec": {
   "display_name": "Python 3",
   "language": "python",
   "name": "python3"
  },
  "language_info": {
   "codemirror_mode": {
    "name": "ipython",
    "version": 3
   },
   "file_extension": ".py",
   "mimetype": "text/x-python",
   "name": "python",
   "nbconvert_exporter": "python",
   "pygments_lexer": "ipython3",
   "version": "3.6.5"
  }
 },
 "nbformat": 4,
 "nbformat_minor": 2
}
